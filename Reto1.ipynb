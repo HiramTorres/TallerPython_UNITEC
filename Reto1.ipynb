{
  "nbformat": 4,
  "nbformat_minor": 0,
  "metadata": {
    "colab": {
      "provenance": [],
      "authorship_tag": "ABX9TyNBy4rqoIe5uEe+5nJDjLks",
      "include_colab_link": true
    },
    "kernelspec": {
      "name": "python3",
      "display_name": "Python 3"
    },
    "language_info": {
      "name": "python"
    }
  },
  "cells": [
    {
      "cell_type": "markdown",
      "metadata": {
        "id": "view-in-github",
        "colab_type": "text"
      },
      "source": [
        "<a href=\"https://colab.research.google.com/github/HiramTorres/TallerPython_UNITEC/blob/master/Reto1.ipynb\" target=\"_parent\"><img src=\"https://colab.research.google.com/assets/colab-badge.svg\" alt=\"Open In Colab\"/></a>"
      ]
    },
    {
      "cell_type": "markdown",
      "source": [
        "1. Escribir un programa que muestre por pantalla el resultado de la siguiente operación aritmética $(\\frac{3+2}{(3)(2)})^2$"
      ],
      "metadata": {
        "id": "n-ABO2Xn34NF"
      }
    },
    {
      "cell_type": "code",
      "source": [],
      "metadata": {
        "id": "i6OhBw054j9i"
      },
      "execution_count": null,
      "outputs": []
    },
    {
      "cell_type": "markdown",
      "source": [
        "2. Escribir un programa que pregunte al usuario en una variable por el número de horas trabajadas y  en otra variable por el costo de la hora. Después debe mostrar por pantalla la paga que le corresponde. (hrs x costo/hr)\n",
        "\n",
        "\n"
      ],
      "metadata": {
        "id": "TxCbg1qb4nXc"
      }
    },
    {
      "cell_type": "code",
      "source": [],
      "metadata": {
        "id": "0rykWt0J5Gub"
      },
      "execution_count": null,
      "outputs": []
    },
    {
      "cell_type": "markdown",
      "source": [
        "3. Escribir un programa que pida al usuario su peso en $kg$ y estatura en $metros$, calcule el índice de masa corporal y lo almacene en una variable, y muestre por pantalla la frase. \"Tu índice de masa corporal es: \" {el indice de masa corporal}"
      ],
      "metadata": {
        "id": "FfVSkWfK5Mua"
      }
    },
    {
      "cell_type": "code",
      "source": [],
      "metadata": {
        "id": "OiAbp9z85obS"
      },
      "execution_count": null,
      "outputs": []
    }
  ]
}