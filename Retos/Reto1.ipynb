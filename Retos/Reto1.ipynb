{
  "cells": [
    {
      "cell_type": "markdown",
      "metadata": {
        "colab_type": "text",
        "id": "view-in-github"
      },
      "source": [
        "<a href=\"https://colab.research.google.com/github/HiramTorres/TallerPython_UNITEC/blob/master/Reto1.ipynb\" target=\"_parent\"><img src=\"https://colab.research.google.com/assets/colab-badge.svg\" alt=\"Open In Colab\"/></a>"
      ]
    },
    {
      "cell_type": "markdown",
      "metadata": {
        "id": "n-ABO2Xn34NF"
      },
      "source": [
        "1. Escribir un programa que muestre por pantalla el resultado de la siguiente operación aritmética $(\\frac{3+2}{(3)(2)})^2$"
      ]
    },
    {
      "cell_type": "code",
      "execution_count": 2,
      "metadata": {
        "id": "i6OhBw054j9i"
      },
      "outputs": [
        {
          "name": "stdout",
          "output_type": "stream",
          "text": [
            "0.6944444444444445\n"
          ]
        }
      ],
      "source": [
        "A=((3+2)/(3*2))**2\n",
        "print(A)"
      ]
    },
    {
      "cell_type": "markdown",
      "metadata": {
        "id": "TxCbg1qb4nXc"
      },
      "source": [
        "2. Escribir un programa que pregunte al usuario en una variable por el número de horas trabajadas y  en otra variable por el costo de la hora. Después debe mostrar por pantalla la paga que le corresponde. (hrs x costo/hr)\n",
        "\n",
        "\n"
      ]
    },
    {
      "cell_type": "code",
      "execution_count": 1,
      "metadata": {
        "id": "0rykWt0J5Gub"
      },
      "outputs": [
        {
          "name": "stdout",
          "output_type": "stream",
          "text": [
            "La paga total es: 672.0\n"
          ]
        }
      ],
      "source": [
        "horas = float(input(\"Coloque el numero de horas trabajadas: \"))\n",
        "pago = float(input(\"Coloque el costo por hora: \"))\n",
        "\n",
        "print(f\"La paga total es: {horas * pago}\")"
      ]
    },
    {
      "cell_type": "markdown",
      "metadata": {
        "id": "FfVSkWfK5Mua"
      },
      "source": [
        "3. Escribir un programa que pida al usuario su peso en $kg$ y estatura en $metros$, calcule el índice de masa corporal y lo almacene en una variable, y muestre por pantalla la frase. \"Tu índice de masa corporal es: \" {el indice de masa corporal}"
      ]
    },
    {
      "cell_type": "code",
      "execution_count": 4,
      "metadata": {
        "id": "OiAbp9z85obS"
      },
      "outputs": [
        {
          "name": "stdout",
          "output_type": "stream",
          "text": [
            "Tu IMC es:  24.69\n"
          ]
        }
      ],
      "source": [
        "peso = float(input(\"Agrega tu peso: \"))\n",
        "Estatura = float(input(\"Agrega tu estatura: \"))\n",
        "\n",
        "IMC = peso / (Estatura**2)\n",
        "print(f\"Tu IMC es: {IMC: .2f}\")\n"
      ]
    },
    {
      "cell_type": "code",
      "execution_count": null,
      "metadata": {},
      "outputs": [],
      "source": []
    }
  ],
  "metadata": {
    "colab": {
      "authorship_tag": "ABX9TyNBy4rqoIe5uEe+5nJDjLks",
      "include_colab_link": true,
      "provenance": []
    },
    "kernelspec": {
      "display_name": "Python 3.9.13 ('base')",
      "language": "python",
      "name": "python3"
    },
    "language_info": {
      "codemirror_mode": {
        "name": "ipython",
        "version": 3
      },
      "file_extension": ".py",
      "mimetype": "text/x-python",
      "name": "python",
      "nbconvert_exporter": "python",
      "pygments_lexer": "ipython3",
      "version": "3.9.13"
    },
    "vscode": {
      "interpreter": {
        "hash": "3924ed30227e34da5a4c68c183321c9d32f94e2bda1bf4a622c4e1f08e1e696d"
      }
    }
  },
  "nbformat": 4,
  "nbformat_minor": 0
}
