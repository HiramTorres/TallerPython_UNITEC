{
  "cells": [
    {
      "cell_type": "markdown",
      "metadata": {
        "colab_type": "text",
        "id": "view-in-github"
      },
      "source": [
        "<a href=\"https://colab.research.google.com/github/HiramTorres/TallerPython_UNITEC/blob/master/Reto1.ipynb\" target=\"_parent\"><img src=\"https://colab.research.google.com/assets/colab-badge.svg\" alt=\"Open In Colab\"/></a>"
      ]
    },
    {
      "cell_type": "markdown",
      "metadata": {
        "id": "n-ABO2Xn34NF"
      },
      "source": [
        "1. Escribir un programa que muestre por pantalla el resultado de la siguiente operación aritmética $(\\frac{3+2}{(3)(2)})^2$"
      ]
    },
    {
      "cell_type": "code",
      "execution_count": null,
      "metadata": {
        "id": "i6OhBw054j9i"
      },
      "outputs": [],
      "source": []
    },
    {
      "cell_type": "markdown",
      "metadata": {
        "id": "TxCbg1qb4nXc"
      },
      "source": [
        "2. Escribir un programa que pregunte al usuario en una variable por el número de horas trabajadas y  en otra variable por el costo de la hora. Después debe mostrar por pantalla la paga que le corresponde. (hrs x costo/hr)\n",
        "\n",
        "\n"
      ]
    },
    {
      "cell_type": "code",
      "execution_count": null,
      "metadata": {
        "id": "0rykWt0J5Gub"
      },
      "outputs": [],
      "source": []
    },
    {
      "cell_type": "markdown",
      "metadata": {
        "id": "FfVSkWfK5Mua"
      },
      "source": [
        "3. Escribir un programa que pida al usuario su peso en $kg$ y estatura en $metros$, calcule el índice de masa corporal y lo almacene en una variable, y muestre por pantalla la frase. \"Tu índice de masa corporal es: \" {el indice de masa corporal}"
      ]
    },
    {
      "cell_type": "code",
      "execution_count": null,
      "metadata": {
        "id": "OiAbp9z85obS"
      },
      "outputs": [],
      "source": []
    }
  ],
  "metadata": {
    "colab": {
      "authorship_tag": "ABX9TyNBy4rqoIe5uEe+5nJDjLks",
      "include_colab_link": true,
      "provenance": []
    },
    "kernelspec": {
      "display_name": "Python 3.11.0 64-bit",
      "language": "python",
      "name": "python3"
    },
    "language_info": {
      "name": "python",
      "version": "3.11.0"
    },
    "vscode": {
      "interpreter": {
        "hash": "11b101de8802807ccc64a803063ae72c254aae076e4b81c5203b2f2fad9491c4"
      }
    }
  },
  "nbformat": 4,
  "nbformat_minor": 0
}
